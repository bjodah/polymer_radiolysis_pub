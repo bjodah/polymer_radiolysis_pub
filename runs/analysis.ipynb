{
 "cells": [
  {
   "cell_type": "code",
   "execution_count": null,
   "metadata": {},
   "outputs": [],
   "source": [
    "import json\n",
    "import os\n",
    "from collections import defaultdict\n",
    "from IPython.display import HTML\n",
    "import numpy as np\n",
    "import matplotlib\n",
    "from matplotlib import animation\n",
    "import matplotlib.pyplot as plt\n",
    "\n",
    "from analysis import (\n",
    "    parse_results, get_token_groups, plot_token_groups, animate, average_length_by_weight,\n",
    "    tokens, counter_tokens, total_of, sum_up, mk_cumulative_interpolator\n",
    ")\n",
    "%matplotlib inline"
   ]
  },
  {
   "cell_type": "code",
   "execution_count": null,
   "metadata": {},
   "outputs": [],
   "source": [
    "def read(path):\n",
    "    tout, Cout, info = parse_results(path)\n",
    "    tokg, ctrg, spg = get_token_groups(Cout)\n",
    "    init = []\n",
    "    for sk in spg['polymeric']:\n",
    "        if Cout[sk][0] > 0:\n",
    "            init.append((sk, Cout[sk][0]))\n",
    "    (sk0, ic0), = init\n",
    "    return locals()"
   ]
  },
  {
   "cell_type": "code",
   "execution_count": null,
   "metadata": {},
   "outputs": [],
   "source": [
    "token = 'W3'\n",
    "cases = __import__('cases_%s' % token)\n",
    "res = lambda **kw: ('%s-res/%s_{scal}_{mf}_{atmo}.txt' % (token, token)).format(**kw)\n",
    "mfs = range(len(cases.mass_fracs))\n",
    "mfs = [0, 3]  # for now...  # number 2 contained an error"
   ]
  },
  {
   "cell_type": "code",
   "execution_count": null,
   "metadata": {},
   "outputs": [],
   "source": [
    "dur, varied = json.load(open('varied-%s.json' % token))\n",
    "dr = varied.pop('doserate')\n",
    "assert not varied\n",
    "cx, cy, ip1d = mk_cumulative_interpolator(dur, dr)"
   ]
  },
  {
   "cell_type": "code",
   "execution_count": null,
   "metadata": {},
   "outputs": [],
   "source": [
    "all_air, all_nit = {}, {}\n",
    "for scal, in cases.crn_combos:\n",
    "    for mf, atmo in cases.int_combos:\n",
    "        if atmo == 0:\n",
    "            r = all_air\n",
    "        elif atmo == 1:\n",
    "            r = all_nit\n",
    "        else:\n",
    "            raise ValueError(\"Unexpected atmosphere index\")\n",
    "        r[scal, mf] = read(res(scal=scal, mf=mf, atmo=atmo))"
   ]
  },
  {
   "cell_type": "code",
   "execution_count": null,
   "metadata": {},
   "outputs": [],
   "source": [
    "fig, ax = plt.subplots(1, 1, figsize=(16, 6))\n",
    "for i, k in enumerate(all_air[0, 0]['spg']['ord_rad']):\n",
    "    ax.loglog(all_air[0, 0]['tout'], all_air[0, 0]['Cout'][k], ls=['-',':','-.'][i % 3], label=k)\n",
    "ax.set_ylim([1e-15, 100])\n",
    "ax.legend()"
   ]
  },
  {
   "cell_type": "code",
   "execution_count": null,
   "metadata": {},
   "outputs": [],
   "source": [
    "#plot_token_groups(tout, Cout, tokg)"
   ]
  },
  {
   "cell_type": "code",
   "execution_count": null,
   "metadata": {},
   "outputs": [],
   "source": [
    "#anim1 = animate(tout, Cout, tokg)\n",
    "#HTML(anim1.to_html5_video())"
   ]
  },
  {
   "cell_type": "code",
   "execution_count": null,
   "metadata": {},
   "outputs": [],
   "source": []
  },
  {
   "cell_type": "code",
   "execution_count": null,
   "metadata": {},
   "outputs": [],
   "source": [
    "def plot_conc(series_air, series_nit, sks='H2O2 O2 N2O HO2'.split()):\n",
    "    fig, all_axes = plt.subplots(len(series_air), 1 + len(sks), figsize=(16, 3*len(series_air)), sharey='col')\n",
    "    assert len(series_air) == len(series_nit)\n",
    "    for axes, air, nit in zip(all_axes, series_air, series_nit):\n",
    "        for lbl, cont in list(zip(['air', 'nitrous oxide'], [air, nit])):\n",
    "            axes[0].axhline(int(cont['sk0'][1:].split('a')[0]), ls='--', lw=0.5, alpha=0.5, c='k')\n",
    "            axes[0].plot(ip1d(cont['tout'])/1e3, average_length_by_weight(cont['Cout'], cont['tokg']), label=lbl)\n",
    "            for i in range(len(sks)):\n",
    "                axes[i+1].plot(ip1d(cont['tout'])/1e3, cont['Cout'][sks[i]], label=lbl, alpha=0.7)\n",
    "                axes[i+1].set_title(sks[i])\n",
    "                axes[i+1].set_yscale('log')\n",
    "        for ax in axes:\n",
    "            ax.set_xlabel('Dose / kGy')\n",
    "        axes[0].legend()\n",
    "        axes[1].legend()\n",
    "        _ = axes[0].set_title(r'Average length by weight')"
   ]
  },
  {
   "cell_type": "code",
   "execution_count": null,
   "metadata": {},
   "outputs": [],
   "source": [
    "%%javascript\n",
    "IPython.OutputArea.prototype._should_scroll = function(lines) {\n",
    "    return false;\n",
    "}"
   ]
  },
  {
   "cell_type": "code",
   "execution_count": null,
   "metadata": {},
   "outputs": [],
   "source": [
    "if token == 'W2':\n",
    "    for scal in range(5):\n",
    "        plot_conc([all_air[scal, 0], all_air[scal, 1]], [all_nit[scal, 0], all_nit[scal, 1]])\n",
    "elif token == 'W3':\n",
    "    plot_conc(*[[cont[0, mf] for mf in mfs] for cont in [all_air, all_nit]])"
   ]
  },
  {
   "cell_type": "code",
   "execution_count": null,
   "metadata": {},
   "outputs": [],
   "source": [
    "# This cell generates figures for Mats' conference presentation\n",
    "def _plot_all(series_air, series_nit):\n",
    "    assert len(series_air) == len(series_nit)\n",
    "    for mfi, (air, nit) in enumerate(zip(series_air, series_nit)):\n",
    "        ppm = cases.mass_fracs[mfi] * 1e6\n",
    "        fig1, ax1 = plt.subplots(1, 1)\n",
    "        for lbl, cont in list(zip(['air', 'nitrous oxide'], [air, nit])):\n",
    "            n0 = int(cont['sk0'][1:].split('a')[0])  # intial lenght\n",
    "            ax1.axhline(n0, ls='--', lw=0.5, alpha=0.5, c='k')\n",
    "            ax1.plot(ip1d(cont['tout'])/1e3, average_length_by_weight(cont['Cout'], cont['tokg']), label=lbl)\n",
    "        ax1.set_ylabel('Chain length / number of segments')\n",
    "        ax1.set_xlabel('Dose / kGy')\n",
    "        ax1.legend()\n",
    "        fig1.savefig('poly_Poland_size_%dppm.png' % ppm, dpi=300)\n",
    "        \n",
    "        for specie in ['H2O2', 'e-(aq)', 'N2O']:\n",
    "            fig2, ax2 = plt.subplots(1, 1)\n",
    "            for lbl, cont in list(zip(['air', 'nitrous oxide'], [air, nit])):\n",
    "                ax2.plot(ip1d(cont['tout'])/1e3, cont['Cout'][specie], label=lbl, alpha=0.7)\n",
    "            ax2.set_ylabel(r'[$\\mathrm{%s}$] / M' % {'H2O2': 'H_2O_2', 'e-(aq)': 'e^-(aq)', 'N2O': 'N_2O'}[specie])\n",
    "            ax2.set_xlabel('Dose / kGy')\n",
    "            ax2.ticklabel_format(axis='y', style='sci', scilimits=(-4, 4))\n",
    "            ax2.set_yscale('log')\n",
    "            ax2.set_ylim([1e-8, 1e-4])\n",
    "            ax2.legend()\n",
    "            fig2.tight_layout()\n",
    "            fig2.savefig('poly_Poland_%s_%dppm.png' % (specie, ppm), dpi=300)\n",
    "        \n",
    "        fig3, ax3 = plt.subplots(1, 1)\n",
    "        for lbl, cont in list(zip(['air', 'nitrous oxide'], [air, nit])):\n",
    "            ax3.plot(ip1d(cont['tout']), sum_up(cont['Cout'], cont['ctrg']['unsaturated'])/cont['ic0'], label=lbl)\n",
    "        ax3.set_ylabel('Number of double bonds per polymer')\n",
    "        ax3.set_xlabel('Dose / kGy')\n",
    "        ax3.legend()\n",
    "        fig3.savefig('poly_Poland_unsaturated_%dppm.png' % ppm, dpi=300)\n",
    "_plot_all(*[[cont[0, mf] for mf in mfs] for cont in [all_air, all_nit]])"
   ]
  },
  {
   "cell_type": "code",
   "execution_count": null,
   "metadata": {},
   "outputs": [],
   "source": [
    "def plot_tokens(series_air, series_nit):\n",
    "    assert len(series_air) == len(series_nit)\n",
    "    fig, all_axes = plt.subplots(len(series_air), len(tokens[1:]), figsize=(16, 2*len(series_air)), sharey='col')\n",
    "    for axes, air, nit in zip(all_axes, series_air, series_nit):\n",
    "        for tk, ax in zip(tokens[1:], axes):\n",
    "            for lbl, cont in list(zip(['air', 'nitrous oxide'], [air, nit])):\n",
    "                ax.plot(ip1d(cont['tout']), total_of(cont['Cout'], cont['tokg'][tk])/cont['ic0'], label=lbl)\n",
    "            ax.legend()\n",
    "            ax.set_title(tk)\n",
    "            ax.set_xlabel('Dose / Gy')\n",
    "            ax.set_yscale('log')"
   ]
  },
  {
   "cell_type": "code",
   "execution_count": null,
   "metadata": {},
   "outputs": [],
   "source": [
    "if token == 'W2':\n",
    "    for scal in range(5):\n",
    "        plot_tokens([all_air[scal, 0], all_air[scal, 1]], [all_nit[scal, 0], all_nit[scal, 1]])\n",
    "elif token == 'W3':\n",
    "    plot_tokens(*[[cont[0, mf] for mf in mfs] for cont in [all_air, all_nit]])"
   ]
  },
  {
   "cell_type": "code",
   "execution_count": null,
   "metadata": {},
   "outputs": [],
   "source": [
    "def plot_counters(series_air, series_nit):\n",
    "    assert len(series_air) == len(series_nit)\n",
    "    fig, all_axes = plt.subplots(len(series_air), len(counter_tokens), figsize=(16, 2*len(series_air)), sharey='col')\n",
    "    for axes, air, nit in zip(all_axes, series_air, series_nit):\n",
    "        for ct, ax in zip(counter_tokens, axes):\n",
    "            for lbl, cont in list(zip(['air', 'nitrous oxide'], [air, nit])):\n",
    "                ax.plot(ip1d(cont['tout']), sum_up(cont['Cout'], cont['ctrg'][ct])/cont['ic0'], label=lbl)\n",
    "            ax.set_xlabel('Dose / Gy')\n",
    "            ax.legend()\n",
    "            ax.set_title(ct)"
   ]
  },
  {
   "cell_type": "code",
   "execution_count": null,
   "metadata": {},
   "outputs": [],
   "source": [
    "if token == 'W2':\n",
    "    for scal in range(5):\n",
    "        plot_counters([all_air[scal, 0], all_air[scal, 1]], [all_nit[scal, 0], all_nit[scal, 1]])\n",
    "elif token == 'W3':\n",
    "    plot_counters(*[[cont[0, mf] for mf in mfs] for cont in [all_air, all_nit]])"
   ]
  }
 ],
 "metadata": {
  "kernelspec": {
   "display_name": "Python 3",
   "language": "python",
   "name": "python3"
  },
  "language_info": {
   "codemirror_mode": {
    "name": "ipython",
    "version": 3
   },
   "file_extension": ".py",
   "mimetype": "text/x-python",
   "name": "python",
   "nbconvert_exporter": "python",
   "pygments_lexer": "ipython3",
   "version": "3.6.6"
  }
 },
 "nbformat": 4,
 "nbformat_minor": 2
}
