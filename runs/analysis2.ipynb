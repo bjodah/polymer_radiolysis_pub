{
 "cells": [
  {
   "cell_type": "code",
   "execution_count": null,
   "metadata": {},
   "outputs": [],
   "source": [
    "import os\n",
    "from collections import defaultdict, OrderedDict\n",
    "from IPython.display import HTML\n",
    "import numpy as np\n",
    "import matplotlib\n",
    "from matplotlib import animation\n",
    "import matplotlib.pyplot as plt\n",
    "\n",
    "from analysis import (\n",
    "    parse_results, get_token_groups, plot_token_groups, animate, average_length_by_weight,\n",
    "    tokens, counter_tokens, total_of, sum_up, mk_cumulative_interpolator\n",
    ")\n",
    "%matplotlib inline"
   ]
  },
  {
   "cell_type": "code",
   "execution_count": null,
   "metadata": {},
   "outputs": [],
   "source": [
    "token = 'V1'"
   ]
  },
  {
   "cell_type": "code",
   "execution_count": null,
   "metadata": {},
   "outputs": [],
   "source": [
    "def read(path):\n",
    "    tout, Cout = parse_results(path)\n",
    "    tokg, ctrg, spg = get_token_groups(Cout)\n",
    "    init = []\n",
    "    for sk in spg['polymeric']:\n",
    "        if Cout[sk][0] > 0:\n",
    "            init.append((sk, Cout[sk][0]))\n",
    "    (sk0, ic0), = init\n",
    "    return dict(tout=tout, Cout=Cout, tokg=tokg, ctrg=ctrg, spg=spg, sk0=sk0, ic0=ic0)"
   ]
  },
  {
   "cell_type": "code",
   "execution_count": null,
   "metadata": {},
   "outputs": [],
   "source": [
    "res = [read('%s-res/%d.txt' % (token, i)) for i in range(10)]"
   ]
  },
  {
   "cell_type": "code",
   "execution_count": null,
   "metadata": {},
   "outputs": [],
   "source": [
    "air = res[1::2]\n",
    "assert air[0]['Cout']['N2O'][0] == 0\n",
    "ntr = res[0::2]\n",
    "assert ntr[0]['Cout']['O2'][0] == 0\n",
    "series = OrderedDict([('air', air), ('nitrous oxide', ntr)])\n",
    "for cont in [air, ntr]:\n",
    "    print([r['ic0'] for r in cont])"
   ]
  },
  {
   "cell_type": "code",
   "execution_count": null,
   "metadata": {},
   "outputs": [],
   "source": []
  },
  {
   "cell_type": "code",
   "execution_count": null,
   "metadata": {},
   "outputs": [],
   "source": [
    "fig, axes = plt.subplots(2, 1, figsize=(16, 10))\n",
    "for ri, (atmo, cont) in enumerate(series.items()):\n",
    "    axes[ri].set_title(['air', 'nitrous oxide'][ri])\n",
    "    for r in cont:\n",
    "        axes[ri].loglog(r['tout'], r['Cout']['H2O2'], label=r['ic0'])\n",
    "    axes[ri].set_ylim([1e-6, 1e-2])\n",
    "    axes[ri].legend()"
   ]
  },
  {
   "cell_type": "code",
   "execution_count": null,
   "metadata": {},
   "outputs": [],
   "source": [
    "#plot_token_groups(tout, Cout, tokg)"
   ]
  },
  {
   "cell_type": "code",
   "execution_count": null,
   "metadata": {},
   "outputs": [],
   "source": [
    "#anim1 = animate(tout, Cout, tokg)\n",
    "#HTML(anim1.to_html5_video())"
   ]
  },
  {
   "cell_type": "code",
   "execution_count": null,
   "metadata": {},
   "outputs": [],
   "source": [
    "sks = 'H2O2 O2 N2O'.split()\n",
    "fig, axes = plt.subplots(2, 1 + len(sks), figsize=(16, 8))\n",
    "for ri, (atmo, cont) in enumerate(series.items()):\n",
    "    for r in cont:\n",
    "        axes[ri, 0].plot(r['tout'], average_length_by_weight(r['Cout'], r['tokg']), label='%.1g' % r['ic0'])\n",
    "        for i in range(len(sks)):\n",
    "            axes[ri, i+1].plot(r['tout'], r['Cout'][sks[i]], label='%.1g' % r['ic0'])\n",
    "            axes[ri, i+1].set_title(sks[i])\n",
    "            axes[ri, i+1].set_yscale('log')\n",
    "\n",
    "            axes[ri, i+1].legend()\n",
    "        axes[ri, 0].legend()\n",
    "        axes[ri, 0].set_title(r'Average length by weight')"
   ]
  },
  {
   "cell_type": "code",
   "execution_count": null,
   "metadata": {},
   "outputs": [],
   "source": [
    "fig, axes = plt.subplots(2, len(tokens[1:]), figsize=(16, 8))\n",
    "for ri, (atmo, cont) in enumerate(series.items()):\n",
    "    for tk, ax in zip(tokens[1:], axes[ri]):\n",
    "        for r in cont:\n",
    "            ax.semilogx(r['tout'], total_of(r['Cout'], r['tokg'][tk])/r['ic0'], label='%.1g' % r['ic0'])\n",
    "        ax.legend()\n",
    "        ax.set_title(tk)"
   ]
  },
  {
   "cell_type": "code",
   "execution_count": null,
   "metadata": {},
   "outputs": [],
   "source": [
    "fig, axes = plt.subplots(2, len(counter_tokens), figsize=(16, 8))\n",
    "for ri, (atmo, cont) in enumerate(series.items()):\n",
    "    axes[ri, 0].set_ylabel('%s\\n\\nFraction' % atmo)\n",
    "    for ct, ax in zip(counter_tokens, axes[ri]):\n",
    "        for r in cont:\n",
    "            ax.semilogx(r['tout'], sum_up(r['Cout'], r['ctrg'][ct])/r['ic0'], label='%.1g' % r['ic0'])\n",
    "        ax.legend()\n",
    "        ax.set_title(ct)"
   ]
  },
  {
   "cell_type": "code",
   "execution_count": null,
   "metadata": {},
   "outputs": [],
   "source": [
    "import json\n",
    "dur, varied = json.load(open('varied-%s.json' % token))\n",
    "dr = varied.pop('doserate')\n",
    "assert not varied"
   ]
  },
  {
   "cell_type": "code",
   "execution_count": null,
   "metadata": {},
   "outputs": [],
   "source": [
    "cx, cy, ip1d = mk_cumulative_interpolator(dur, dr)"
   ]
  },
  {
   "cell_type": "code",
   "execution_count": null,
   "metadata": {},
   "outputs": [],
   "source": [
    "plt.plot(cx, cy)\n",
    "plt.xlabel('Time / s')\n",
    "plt.ylabel('Dose / Gy')"
   ]
  },
  {
   "cell_type": "code",
   "execution_count": null,
   "metadata": {},
   "outputs": [],
   "source": [
    "def plot_vs_doses_and_atmospheres(callback, descr, yscale='linear'):\n",
    "    doses = [20e3, 40e3, 60e3, 80e3]\n",
    "    fig, all_axes = plt.subplots(len(doses), 2, figsize=(12, 2*len(doses)), sharey=True)\n",
    "    for ri, (axes, Dtot) in enumerate(zip(all_axes, doses)):\n",
    "        ti = np.argmax(cy>=Dtot*(1 - 1e-12))\n",
    "        axes[0].set_ylabel('D=%.1f kGy\\n\\n%s' % (cy[ti]/1e3, descr))\n",
    "        for ci, (ax, (atmo, cont)) in enumerate(zip(axes, series.items())):\n",
    "            if ri == 0:\n",
    "                ax.set_title(atmo)\n",
    "            for r in cont:\n",
    "                ax.plot(r['ic0']*1e6, callback(r)[ti], marker='o', c='k')\n",
    "            ax.set_xlabel('Initial concentation of polymer / μM')\n",
    "    for ax in all_axes.flat:\n",
    "        ax.set_xlim(left=0)\n",
    "        ax.set_ylim(bottom=0)\n",
    "        ax.set_yscale(yscale)\n",
    "    #fig.tight_layout()"
   ]
  },
  {
   "cell_type": "code",
   "execution_count": null,
   "metadata": {},
   "outputs": [],
   "source": [
    "_avg_size = dict(\n",
    "    callback=lambda r: average_length_by_weight(r['Cout'], r['tokg']),\n",
    "    descr='Average length by weight'\n",
    ")\n",
    "plot_vs_doses_and_atmospheres(**_avg_size)"
   ]
  },
  {
   "cell_type": "code",
   "execution_count": null,
   "metadata": {},
   "outputs": [],
   "source": [
    "_conc = lambda k: dict(\n",
    "    callback=lambda r: r['Cout'][k],\n",
    "    descr='%s / M' % k\n",
    ")\n",
    "plot_vs_doses_and_atmospheres(**_conc('H2O2'))"
   ]
  },
  {
   "cell_type": "code",
   "execution_count": null,
   "metadata": {},
   "outputs": [],
   "source": [
    "_principal = lambda k: dict(\n",
    "    callback=lambda r: total_of(r['Cout'], r['tokg'][k])/r['ic0'],\n",
    "    descr=k.upper()\n",
    ")\n",
    "plot_vs_doses_and_atmospheres(**_principal('a'))"
   ]
  },
  {
   "cell_type": "code",
   "execution_count": null,
   "metadata": {},
   "outputs": [],
   "source": [
    "_counter = lambda k: dict(\n",
    "    callback=lambda r: sum_up(r['Cout'], r['ctrg'][k])/r['ic0'],\n",
    "    descr=k\n",
    ")\n",
    "plot_vs_doses_and_atmospheres(**_counter('tiny'), yscale='log')"
   ]
  },
  {
   "cell_type": "code",
   "execution_count": null,
   "metadata": {},
   "outputs": [],
   "source": [
    "def dose_plot(callback, descr, *, skip_first=False, axes):\n",
    "    for idx, (ax, (atmo, cont)) in enumerate(zip(axes, series.items())):\n",
    "        if skip_first:\n",
    "            cont = cont[1:]\n",
    "        ax.set_title(atmo)\n",
    "        for i, r in enumerate(cont):\n",
    "            c = np.zeros(3)\n",
    "            c[idx] = i/(len(cont) - 1)\n",
    "            ax.plot(ip1d(r['tout'])/1e3, callback(r), c=c, label='%.1g' % r['ic0'])\n",
    "        ax.legend()\n",
    "        ax.set_xlabel('Dose / kGy')\n",
    "        ax.set_ylabel(descr)\n",
    "        ax.set_xlim(left=0)\n",
    "        ax.set_ylim(bottom=0)"
   ]
  },
  {
   "cell_type": "code",
   "execution_count": null,
   "metadata": {},
   "outputs": [],
   "source": [
    "%matplotlib inline"
   ]
  },
  {
   "cell_type": "code",
   "execution_count": null,
   "metadata": {},
   "outputs": [],
   "source": [
    "fig, all_axes = plt.subplots(7, 2, figsize=(15, 15)) #, sharey='row')\n",
    "dose_plot(**_avg_size, axes=all_axes[0, :])\n",
    "dose_plot(**_principal('l'), axes=all_axes[1, :], skip_first=True)\n",
    "dose_plot(**_counter('unsaturated'), axes=all_axes[2, :], skip_first=True)\n",
    "dose_plot(**_conc('H2O2'), axes=all_axes[3, :])\n",
    "dose_plot(**_conc('O2'), axes=all_axes[4, :])\n",
    "dose_plot(**_conc('N2O'), axes=all_axes[5, :])\n",
    "dose_plot(**_counter('damage_fivering'), axes=all_axes[6, :], skip_first=True)\n",
    "for ax in all_axes[4, :]:\n",
    "    ax.set_ylim([1e-10, 1e-6])\n",
    "fig.tight_layout()"
   ]
  }
 ],
 "metadata": {
  "kernelspec": {
   "display_name": "Python 3",
   "language": "python",
   "name": "python3"
  },
  "language_info": {
   "codemirror_mode": {
    "name": "ipython",
    "version": 3
   },
   "file_extension": ".py",
   "mimetype": "text/x-python",
   "name": "python",
   "nbconvert_exporter": "python",
   "pygments_lexer": "ipython3",
   "version": "3.6.6"
  }
 },
 "nbformat": 4,
 "nbformat_minor": 2
}
