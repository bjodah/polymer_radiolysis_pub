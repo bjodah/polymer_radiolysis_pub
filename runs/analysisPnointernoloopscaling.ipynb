{
 "cells": [
  {
   "cell_type": "code",
   "execution_count": null,
   "metadata": {},
   "outputs": [],
   "source": [
    "import json\n",
    "import os\n",
    "from collections import defaultdict\n",
    "from IPython.display import HTML\n",
    "import numpy as np\n",
    "import matplotlib\n",
    "from matplotlib import animation\n",
    "import matplotlib.pyplot as plt\n",
    "from matplotlib.cm import viridis\n",
    "\n",
    "from analysis import (\n",
    "    parse_results, get_token_groups, plot_token_groups, animate, average_length_by_weight,\n",
    "    tokens, counter_tokens, total_of, sum_up, mk_cumulative_interpolator\n",
    ")\n",
    "%matplotlib inline"
   ]
  },
  {
   "cell_type": "code",
   "execution_count": null,
   "metadata": {},
   "outputs": [],
   "source": [
    "def read(path):\n",
    "    tout, Cout, info = parse_results(path)\n",
    "    tokg, ctrg, spg = get_token_groups(Cout)\n",
    "    init = []\n",
    "    for sk in spg['polymeric']:\n",
    "        if Cout[sk][0] > 0:\n",
    "            init.append((sk, Cout[sk][0]))\n",
    "    (sk0, ic0), = init\n",
    "    return locals()"
   ]
  },
  {
   "cell_type": "code",
   "execution_count": null,
   "metadata": {},
   "outputs": [],
   "source": [
    "TOKEN = 'Pnointernoloopscaling'\n",
    "cases = __import__('cases_%s' % TOKEN)\n",
    "res = lambda **kw: ('%s-res/%s_{mf}_{tp}.txt' % (TOKEN, TOKEN)).format(**kw)"
   ]
  },
  {
   "cell_type": "code",
   "execution_count": null,
   "metadata": {},
   "outputs": [],
   "source": [
    "rs = dict()\n",
    "for mf in range(len(cases.mass_fracs)):\n",
    "    for tp in range(len(cases.pulse_durs)):\n",
    "        rs[mf, tp] = read(res(mf=mf, tp=tp))"
   ]
  },
  {
   "cell_type": "code",
   "execution_count": null,
   "metadata": {},
   "outputs": [],
   "source": [
    "fig, ax = plt.subplots(1, 1, figsize=(16, 6))\n",
    "for i, k in enumerate(rs[0, 0]['spg']['ord_rad']):\n",
    "    ax.loglog(rs[0, 0]['tout'], rs[0, 0]['Cout'][k], ls=['-',':','-.'][i % 3], label=k)\n",
    "ax.set_ylim([1e-15, 100])\n",
    "ax.legend()\n",
    "print(rs[len(cases.mass_fracs)-1, 0]['ic0'])"
   ]
  },
  {
   "cell_type": "code",
   "execution_count": null,
   "metadata": {},
   "outputs": [],
   "source": [
    "nmf, npd = len(cases.mass_fracs), len(cases.pulse_durs)\n",
    "fig, axes = plt.subplots(nmf, npd, figsize=(14, 14))\n",
    "for mf in range(len(cases.mass_fracs)):\n",
    "    for tp in range(len(cases.pulse_durs)):\n",
    "        ax, r = axes[mf, tp], rs[mf, tp]\n",
    "        tot = total_of(r['Cout'], r['tokg']['a'])\n",
    "        ax.plot(r['tout'], tot)#/r['ic0'])\n",
    "        np.savetxt('%s_pmf%d_pt%d.txt' % (\n",
    "            TOKEN, \n",
    "            int(-np.log10(cases.mass_fracs[mf])),\n",
    "            int(-np.log10(cases.pulse_durs[tp]))\n",
    "        ), np.array([r['tout'], tot]).T)\n",
    "        ax.vlines([cases.pulse_durs[tp]], 0, 1, transform=ax.get_xaxis_transform(), lw=0.5, linestyle='--')\n",
    "        ax.set_xscale('log')\n",
    "        ax.set_yscale('log')\n",
    "        ax.set_xlim([1e-9, 1e2])\n",
    "        #ax.set_ylim([1e-1, 1e2])\n",
    "        ax.set_ylim([1e-8, 1e-4])\n",
    "        if tp == 2:\n",
    "            ax.set_ylabel('mass frac = %s' % str(cases.mass_fracs[mf]))\n",
    "            ax.yaxis.set_label_coords(1.1, 0.5) \n",
    "        if mf == 0:\n",
    "            ax.set_title('t pulse = %s' % str(cases.pulse_durs[tp]))\n",
    "        if mf == 2:\n",
    "            ax.set_xlabel('time / s')\n",
    "        if tp == 0:\n",
    "            ax.set_ylabel('concentration / M')"
   ]
  },
  {
   "cell_type": "code",
   "execution_count": null,
   "metadata": {},
   "outputs": [],
   "source": [
    "def plot_alkyls(xlim=None):\n",
    "    fig, axes = plt.subplots(nmf, npd, figsize=(14, 14), sharey='col')\n",
    "    for mf in range(nmf):\n",
    "        for tp in range(npd):\n",
    "            ax, r = axes[mf, tp], rs[mf, tp]\n",
    "            x, y = r['tout'], total_of(r['Cout'], r['tokg']['a'])\n",
    "            mi = np.argmax(y)\n",
    "            tenth_y = y[mi]*0.1\n",
    "            tenth_b = y[mi:] < tenth_y\n",
    "            if np.any(tenth_b):\n",
    "                tenth_i = mi + np.argmax(tenth_b)\n",
    "            else:\n",
    "                tenth_i = -1\n",
    "            ax.plot(x[:tenth_i], y[:tenth_i])\n",
    "            ax.ticklabel_format(axis='x', style='sci', scilimits=(-4, 4))\n",
    "            ax.ticklabel_format(axis='y', style='sci', scilimits=(-4, 4))\n",
    "            if tp == 2:\n",
    "                ax.set_ylabel('mass frac = %s (%.3g M)' % (cases.mass_fracs[mf], r['ic0']))\n",
    "                ax.yaxis.set_label_coords(1.1, 0.5) \n",
    "            if mf == 0:\n",
    "                ax.set_title('t pulse = %s' % str(cases.pulse_durs[tp]))\n",
    "            if mf == 2:\n",
    "                ax.set_xlabel('time / s')\n",
    "            if tp == 0:\n",
    "                ax.set_ylabel('concentration / M')\n",
    "            if xlim:\n",
    "                ax.set_xlim(xlim)"
   ]
  },
  {
   "cell_type": "code",
   "execution_count": null,
   "metadata": {},
   "outputs": [],
   "source": [
    "plot_alkyls(xlim=[0, 2e-3])"
   ]
  },
  {
   "cell_type": "code",
   "execution_count": null,
   "metadata": {},
   "outputs": [],
   "source": [
    "plot_alkyls()"
   ]
  },
  {
   "cell_type": "code",
   "execution_count": null,
   "metadata": {},
   "outputs": [],
   "source": [
    "def plot_tokens():\n",
    "    fig, all_axes = plt.subplots(len(tokens)-1, npd, figsize=(16, 3*len(tokens)))\n",
    "    for tki, (axes, tk) in enumerate(zip(all_axes, tokens[1:])):\n",
    "        for pdi, ax in zip(range(npd), axes):\n",
    "            for mfi in range(nmf):\n",
    "                r = rs[mfi, pdi]\n",
    "                c = viridis(mfi/(nmf-1.0))\n",
    "                ax.plot(r['tout'], total_of(r['Cout'], r['tokg'][tk])/r['ic0'],\n",
    "                        label='%s ppm' % cases.mass_fracs[mfi], c=c)\n",
    "            ax.legend()\n",
    "            if tki == 0:\n",
    "                ax.set_title('Pulse duration: %s s' % cases.pulse_durs[pdi])\n",
    "            if tki == len(tokens)-2:\n",
    "                ax.set_xlabel('time / s')\n",
    "            if pdi == 0:\n",
    "                ax.set_ylabel(tk)\n",
    "            \n",
    "            ax.set_yscale('log')\n",
    "            ax.set_ylim([1e-12, 1e2])"
   ]
  },
  {
   "cell_type": "code",
   "execution_count": null,
   "metadata": {},
   "outputs": [],
   "source": [
    "plot_tokens()"
   ]
  },
  {
   "cell_type": "code",
   "execution_count": null,
   "metadata": {},
   "outputs": [],
   "source": [
    "def plot_conc(sks=dict(H2O2=(1e-7, 1e-4, 'log'), O2=(1e-17, 1e-5, 'log'), N2O=(28.95e-3, 29.01e-3, 'linear'),\n",
    "                       HO2=(1e-16, 1e-7, 'log'), OH=(1e-16, 1e-4, 'log'))):\n",
    "    fig, all_axes = plt.subplots(len(sks)+1, npd, figsize=(16, 3*len(sks)))\n",
    "    for pdi, ax in zip(range(npd), axes):\n",
    "        for mfi in range(nmf):\n",
    "            r = rs[mfi, pdi]\n",
    "            lbl = 'mass frac: %s' % cases.mass_fracs[mfi]\n",
    "            c = viridis(mfi/(nmf-1.0))\n",
    "            for ski, (sk, (lb, ub, yscl)) in enumerate(sks.items()):\n",
    "                ax = all_axes[ski, pdi]\n",
    "                ax.plot(r['tout'], r['Cout'][sk], label=lbl, c=c)\n",
    "                ax.set_ylim([lb, ub])\n",
    "                ax.set_yscale(yscl)\n",
    "                ax.set_xlim([1e-9, 300])\n",
    "                ax.set_xscale('log')\n",
    "                if pdi == 0 and mfi == 0:\n",
    "                    ax.set_ylabel('[%s] / M' % sk)\n",
    "            all_axes[-1, pdi].plot(r['tout'], average_length_by_weight(r['Cout'], r['tokg']), label=lbl, c=c)\n",
    "        all_axes[-1, pdi].set_xlabel('time / s')\n",
    "        all_axes[0, pdi].set_title('Pulse duration: %s s' % cases.pulse_durs[pdi])\n",
    "        all_axes[-1, pdi].axhline(int(r['sk0'][1:].split('a')[0]), ls='--', lw=0.5, alpha=0.5, c='k')\n",
    "        all_axes[-1, pdi].set_ylim([0, 500])\n",
    "    all_axes[-1, 0].set_ylabel('Average length by weight')\n",
    "    _ = all_axes[-1, 0].legend()"
   ]
  },
  {
   "cell_type": "code",
   "execution_count": null,
   "metadata": {},
   "outputs": [],
   "source": [
    "plot_conc()"
   ]
  },
  {
   "cell_type": "code",
   "execution_count": null,
   "metadata": {},
   "outputs": [],
   "source": []
  }
 ],
 "metadata": {
  "kernelspec": {
   "display_name": "Python 3",
   "language": "python",
   "name": "python3"
  },
  "language_info": {
   "codemirror_mode": {
    "name": "ipython",
    "version": 3
   },
   "file_extension": ".py",
   "mimetype": "text/x-python",
   "name": "python",
   "nbconvert_exporter": "python",
   "pygments_lexer": "ipython3",
   "version": "3.6.6"
  }
 },
 "nbformat": 4,
 "nbformat_minor": 2
}
