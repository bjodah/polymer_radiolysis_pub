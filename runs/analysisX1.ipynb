{
 "cells": [
  {
   "cell_type": "code",
   "execution_count": null,
   "metadata": {},
   "outputs": [],
   "source": [
    "import json\n",
    "import os\n",
    "from collections import defaultdict\n",
    "from IPython.display import HTML\n",
    "import numpy as np\n",
    "import matplotlib\n",
    "from matplotlib import animation\n",
    "import matplotlib.pyplot as plt\n",
    "\n",
    "from analysis import (\n",
    "    parse_results, get_token_groups, plot_token_groups, animate, average_length_by_weight,\n",
    "    tokens, counter_tokens, total_of, sum_up, mk_cumulative_interpolator\n",
    ")\n",
    "%matplotlib inline"
   ]
  },
  {
   "cell_type": "code",
   "execution_count": null,
   "metadata": {},
   "outputs": [],
   "source": [
    "def read(path):\n",
    "    tout, Cout, info = parse_results(path)\n",
    "    tokg, ctrg, spg = get_token_groups(Cout)\n",
    "    init = []\n",
    "    for sk in spg['polymeric']:\n",
    "        if Cout[sk][0] > 0:\n",
    "            init.append((sk, Cout[sk][0]))\n",
    "    (sk0, ic0), = init\n",
    "    return locals()"
   ]
  },
  {
   "cell_type": "code",
   "execution_count": null,
   "metadata": {},
   "outputs": [],
   "source": [
    "TOKEN = 'X1'\n",
    "cases = __import__('cases_%s' % TOKEN)\n",
    "res = lambda **kw: ('%s-res/%s_{mf}_{atmo}_{freq}.txt' % (TOKEN, TOKEN)).format(**kw)"
   ]
  },
  {
   "cell_type": "code",
   "execution_count": null,
   "metadata": {},
   "outputs": [],
   "source": [
    "def _varied(xi):\n",
    "    return 'varied-%s-%d.json' % (TOKEN, xi)\n",
    "\n",
    "interpols = []\n",
    "for freq_idx in range(len(cases.freqs)):\n",
    "    dur, varied = json.load(open(_varied(freq_idx)))\n",
    "    dr = varied.pop('doserate')\n",
    "    assert not varied\n",
    "    interpols.append(mk_cumulative_interpolator(dur, dr))"
   ]
  },
  {
   "cell_type": "code",
   "execution_count": null,
   "metadata": {},
   "outputs": [],
   "source": [
    "all_air, all_nit = {}, {}\n",
    "for mf, atmo, freq in cases.int_combos:\n",
    "    if atmo == 0:\n",
    "        r = all_air\n",
    "    elif atmo == 1:\n",
    "        r = all_nit\n",
    "    else:\n",
    "        raise ValueError(\"Unexpected atmosphere index\")\n",
    "    r[mf, freq] = read(res(mf=mf, atmo=atmo, freq=freq))"
   ]
  },
  {
   "cell_type": "code",
   "execution_count": null,
   "metadata": {},
   "outputs": [],
   "source": [
    "fig, ax = plt.subplots(1, 1, figsize=(16, 6))\n",
    "for i, k in enumerate(all_air[0, 0]['spg']['ord_rad']):\n",
    "    ax.loglog(all_air[0, 0]['tout'], all_air[0, 0]['Cout'][k], ls=['-',':','-.'][i % 3], label=k)\n",
    "ax.set_ylim([1e-15, 100])\n",
    "ax.legend()"
   ]
  },
  {
   "cell_type": "code",
   "execution_count": null,
   "metadata": {},
   "outputs": [],
   "source": [
    "#plot_token_groups(tout, Cout, tokg)"
   ]
  },
  {
   "cell_type": "code",
   "execution_count": null,
   "metadata": {},
   "outputs": [],
   "source": [
    "#anim1 = animate(tout, Cout, tokg)\n",
    "#HTML(anim1.to_html5_video())"
   ]
  },
  {
   "cell_type": "code",
   "execution_count": null,
   "metadata": {},
   "outputs": [],
   "source": []
  },
  {
   "cell_type": "code",
   "execution_count": null,
   "metadata": {},
   "outputs": [],
   "source": [
    "def plot_conc(series_air, series_nit, ip1d, sks='H2O2 O2 N2O HO2'.split()):\n",
    "    fig, all_axes = plt.subplots(len(series_air), 1 + len(sks), figsize=(16, 3*len(series_air)), sharey='col')\n",
    "    assert len(series_air) == len(series_nit)\n",
    "    for axes, air, nit in zip(all_axes, series_air, series_nit):\n",
    "        for lbl, cont in list(zip(['air', 'nitrous oxide'], [air, nit])):\n",
    "            axes[0].axhline(int(cont['sk0'][1:].split('a')[0]), ls='--', lw=0.5, alpha=0.5, c='k')\n",
    "            axes[0].plot(ip1d(cont['tout'])/1e3, average_length_by_weight(cont['Cout'], cont['tokg']), label=lbl)\n",
    "            for i in range(len(sks)):\n",
    "                axes[i+1].plot(ip1d(cont['tout'])/1e3, cont['Cout'][sks[i]], label=lbl, alpha=0.7)\n",
    "                axes[i+1].set_title(sks[i])\n",
    "                axes[i+1].set_yscale('log')\n",
    "        for ax in axes:\n",
    "            ax.set_xlabel('Dose / kGy')\n",
    "        axes[0].legend()\n",
    "        axes[1].legend()\n",
    "        _ = axes[0].set_title(r'Average length by weight')"
   ]
  },
  {
   "cell_type": "code",
   "execution_count": null,
   "metadata": {},
   "outputs": [],
   "source": [
    "%%javascript\n",
    "IPython.OutputArea.prototype._should_scroll = function(lines) {\n",
    "    return false;\n",
    "}"
   ]
  },
  {
   "cell_type": "code",
   "execution_count": null,
   "metadata": {},
   "outputs": [],
   "source": [
    "if TOKEN == 'W2':\n",
    "    for scal in range(5):\n",
    "        plot_conc([all_air[scal, 0], all_air[scal, 1]], [all_nit[scal, 0], all_nit[scal, 1]])\n",
    "elif TOKEN == 'W3':\n",
    "    plot_conc(*[[cont[0, mf] for mf in mfs] for cont in [all_air, all_nit]])\n",
    "elif TOKEN == 'X1':\n",
    "    for freq in range(len(cases.freqs)):\n",
    "        cx, cy, ip1d = interpols[freq]\n",
    "        plot_conc(*[[cont[mf, freq] for mf in range(len(cases.mass_fracs))] for cont in [all_air, all_nit]], ip1d)\n",
    "        plt.suptitle(\"Freq = %.1f Hz\" % cases.freqs[freq])\n",
    "        plt.tight_layout()\n",
    "        plt.subplots_adjust(left=0.1, wspace=0.9, top=0.9)"
   ]
  },
  {
   "cell_type": "code",
   "execution_count": null,
   "metadata": {},
   "outputs": [],
   "source": [
    "def plot_tokens(series_air, series_nit, ip1d):\n",
    "    assert len(series_air) == len(series_nit)\n",
    "    fig, all_axes = plt.subplots(len(series_air), len(tokens[1:]), figsize=(16, 3*len(series_air)), sharey='col')\n",
    "    for axes, air, nit in zip(all_axes, series_air, series_nit):\n",
    "        for tk, ax in zip(tokens[1:], axes):\n",
    "            for lbl, cont in list(zip(['air', 'nitrous oxide'], [air, nit])):\n",
    "                ax.plot(ip1d(cont['tout']), total_of(cont['Cout'], cont['tokg'][tk])/cont['ic0'], label=lbl)\n",
    "            ax.legend()\n",
    "            ax.set_title(tk)\n",
    "            ax.set_xlabel('Dose / Gy')\n",
    "            ax.set_yscale('log')"
   ]
  },
  {
   "cell_type": "code",
   "execution_count": null,
   "metadata": {},
   "outputs": [],
   "source": [
    "if TOKEN == 'W2':\n",
    "    for scal in range(5):\n",
    "        plot_tokens([all_air[scal, 0], all_air[scal, 1]], [all_nit[scal, 0], all_nit[scal, 1]])\n",
    "elif TOKEN == 'W3':\n",
    "    plot_tokens(*[[cont[0, mf] for mf in mfs] for cont in [all_air, all_nit]])\n",
    "elif TOKEN == 'X1':\n",
    "    for freq in range(len(cases.freqs)):\n",
    "        cx, cy, ip1d = interpols[freq]\n",
    "        plot_tokens(*[[cont[mf, freq] for mf in range(len(cases.mass_fracs))] for cont in [all_air, all_nit]], ip1d)\n",
    "        plt.suptitle(\"Freq = %.1f Hz\" % cases.freqs[freq])\n",
    "        plt.tight_layout()\n",
    "        plt.subplots_adjust(left=0.1, wspace=0.9, top=0.9)"
   ]
  },
  {
   "cell_type": "code",
   "execution_count": null,
   "metadata": {},
   "outputs": [],
   "source": [
    "# This cell generates figures for Mats' conference presentation\n",
    "cx, cy, ip1d = interpols[0]\n",
    "series_air = [all_air[mf, 0] for mf in range(len(cases.mass_fracs))]\n",
    "series_nit = [all_nit[mf, 0] for mf in range(len(cases.mass_fracs))]\n",
    "assert len(series_air) == len(series_nit)\n",
    "for mfi, (air, nit) in enumerate(zip(series_air, series_nit)):\n",
    "    fig, ax = plt.subplots(1, 1)\n",
    "    tk = 'a'\n",
    "    for lbl, cont in list(zip(['air', 'nitrous oxide'], [air, nit])):\n",
    "        ax.plot(ip1d(cont['tout'])/1e3, total_of(cont['Cout'], cont['tokg'][tk])/cont['ic0'], label=lbl)\n",
    "    ax.legend()\n",
    "    ppm = cases.mass_fracs[mfi]*1e6\n",
    "    ax.set_title('%d ppm polymer' % ppm)\n",
    "    ax.set_xlabel('Dose / kGy')\n",
    "    ax.set_yscale('log')\n",
    "    ax.set_ylim([1e-2, 1e3])\n",
    "    ax.set_ylabel('Number of alkyl radicals per polymer chain')\n",
    "    fig.tight_layout()\n",
    "    fig.savefig('alkyls_per_chain_%d.png' % ppm, dpi=300)"
   ]
  },
  {
   "cell_type": "code",
   "execution_count": null,
   "metadata": {},
   "outputs": [],
   "source": [
    "def plot_counters(series_air, series_nit, ip1d):\n",
    "    assert len(series_air) == len(series_nit)\n",
    "    fig, all_axes = plt.subplots(len(series_air), len(counter_tokens), figsize=(16, 3*len(series_air)), sharey='col')\n",
    "    for axes, air, nit in zip(all_axes, series_air, series_nit):\n",
    "        for ct, ax in zip(counter_tokens, axes):\n",
    "            for lbl, cont in list(zip(['air', 'nitrous oxide'], [air, nit])):\n",
    "                ax.plot(ip1d(cont['tout']), sum_up(cont['Cout'], cont['ctrg'][ct])/cont['ic0'], label=lbl)\n",
    "            ax.set_xlabel('Dose / Gy')\n",
    "            ax.legend()\n",
    "            ax.set_title(ct)"
   ]
  },
  {
   "cell_type": "code",
   "execution_count": null,
   "metadata": {},
   "outputs": [],
   "source": [
    "if TOKEN == 'W2':\n",
    "    for scal in range(5):\n",
    "        plot_counters([all_air[scal, 0], all_air[scal, 1]], [all_nit[scal, 0], all_nit[scal, 1]])\n",
    "elif TOKEN == 'W3':\n",
    "    plot_counters(*[[cont[0, mf] for mf in mfs] for cont in [all_air, all_nit]])\n",
    "elif TOKEN == 'X1':\n",
    "    for freq in range(len(cases.freqs)):\n",
    "        cx, cy, ip1d = interpols[freq]\n",
    "        plot_counters(*[[cont[mf, freq] for mf in range(len(cases.mass_fracs))] for cont in [all_air, all_nit]], ip1d)\n",
    "        plt.suptitle(\"Freq = %.1f Hz\" % cases.freqs[freq])\n",
    "        plt.tight_layout()\n",
    "        plt.subplots_adjust(left=0.1, wspace=0.9, top=0.9)"
   ]
  },
  {
   "cell_type": "code",
   "execution_count": null,
   "metadata": {},
   "outputs": [],
   "source": [
    "# This cell generates figures for Mats' conference presentation\n",
    "parameter = dict(X1='freqs', X2='doserates', X3='tpulses')\n",
    "offset = dict(X1=0, X2=1, X3=0)[TOKEN]\n",
    "param_pretty = dict(freqs='Frequency', doserates='Doserate', tpulses='Pulse length')\n",
    "param_unit = dict(freqs='Hz', doserates='Gy/s', tpulses='s')\n",
    "vark = parameter[TOKEN]\n",
    "varl = dict(X1=[], X2=[32e6], X3=[5e-6])[TOKEN] + getattr(cases, vark)\n",
    "from chempy.printing import number_to_scientific_latex\n",
    "\n",
    "for xi in range(len(varl)-offset):\n",
    "    cx, cy, ip1d = interpols[xi]\n",
    "    mfi = len(cases.mass_fracs)-1\n",
    "    ppm = cases.mass_fracs[mfi]*1e6\n",
    "    assert int(ppm) == 5000\n",
    "    air, nit = all_air[mfi, xi], all_nit[mfi, xi]\n",
    "    t_end_s = air['tout'][-1]\n",
    "    print('t_end = %.5f s' % t_end_s)\n",
    "    fig, ax = plt.subplots(1, 1)\n",
    "    for lbl, cont in list(zip(['air', 'nitrous oxide'], [air, nit])):\n",
    "        n0 = int(cont['sk0'][1:].split('a')[0])  # intial lenght\n",
    "        ax.axhline(n0, ls='--', lw=0.5, alpha=0.5, c='k')\n",
    "        ax.plot(ip1d(cont['tout'])/1e3, average_length_by_weight(cont['Cout'], cont['tokg']), label=lbl)\n",
    "    ax.set_ylabel('Chain length / number of segments')\n",
    "    ax.set_xlabel('Dose / kGy')\n",
    "    ax.legend()\n",
    "    ax.set_ylim([90, 800])\n",
    "    \n",
    "    varv = varl[xi]\n",
    "    ax.set_title('{} = ${}$ {}'.format(param_pretty[vark], number_to_scientific_latex(varv), param_unit[vark]))\n",
    "    fnam = lambda k: 'poly_simple_%s/{}_{}'.format(vark, varv) % k.replace('(', '').replace(')', '')\n",
    "    fig.savefig('%s.png' % fnam('size'), dpi=300)\n",
    "    dur, varied = json.load(open(_varied(xi)))\n",
    "    n_pulse = len(dur)/2\n",
    "    dr = varied['doserate'][0]\n",
    "    with open('%s.txt' % fnam('size'), 'wt') as fh:\n",
    "        fh.write(\"t_end_s={}, freq_Hz={}, t_pulse_s={}, t_wait_s={}, doserate_Gy_s={:.4g}\".format(\n",
    "            t_end_s, n_pulse/t_end_s, dur[0], dur[1], dr\n",
    "        ))\n",
    "        \n",
    "    for specie in ['H2O2', 'e-(aq)']:\n",
    "        fig2, ax2 = plt.subplots(1, 1)\n",
    "        for lbl, cont in list(zip(['air', 'nitrous oxide'], [air, nit])):\n",
    "            ax2.plot(ip1d(cont['tout'])/1e3, cont['Cout'][specie], label=lbl, alpha=0.7)\n",
    "        ax2.set_ylabel(r'[$\\mathrm{%s}$] / M' % {'H2O2': 'H_2O_2', 'e-(aq)': 'e^-(aq)'}[specie])\n",
    "        ax2.set_xlabel('Dose / kGy')\n",
    "        ax2.set_ylim([0, 2e-3])\n",
    "        ax2.legend()\n",
    "        fig2.savefig('%s.png' % fnam(specie), dpi=300)\n",
    "\n",
    "    # unsaturated\n",
    "    fig3, ax3 = plt.subplots(1, 1)\n",
    "    for lbl, cont in list(zip(['air', 'nitrous oxide'], [air, nit])):\n",
    "        ax3.plot(ip1d(cont['tout']), sum_up(cont['Cout'], cont['ctrg']['unsaturated'])/cont['ic0'], label=lbl)\n",
    "    ax3.set_ylabel('Number of double bonds per polymer')\n",
    "    ax3.set_xlabel('Dose / kGy')\n",
    "    ax3.set_ylim([0, 400])\n",
    "    ax3.legend()\n",
    "    fig3.savefig('%s.png' % fnam('unsaturated'), dpi=300)"
   ]
  },
  {
   "cell_type": "code",
   "execution_count": null,
   "metadata": {},
   "outputs": [],
   "source": [
    "%debug"
   ]
  },
  {
   "cell_type": "code",
   "execution_count": null,
   "metadata": {},
   "outputs": [],
   "source": []
  }
 ],
 "metadata": {
  "kernelspec": {
   "display_name": "Python 3",
   "language": "python",
   "name": "python3"
  }
 },
 "nbformat": 4,
 "nbformat_minor": 2
}
