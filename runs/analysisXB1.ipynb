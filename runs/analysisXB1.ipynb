{
 "cells": [
  {
   "cell_type": "markdown",
   "metadata": {},
   "source": [
    "**XB1: freq: [400, 40, 4] Hz**\n",
    "\n",
    "XB2: doserate: [3.2, ~~0.32~~] MGy/s\n",
    "\n",
    "XB3: t_pulse: [50, 500] microseconds"
   ]
  },
  {
   "cell_type": "code",
   "execution_count": null,
   "metadata": {},
   "outputs": [],
   "source": [
    "TOKEN = 'XB1'"
   ]
  },
  {
   "cell_type": "code",
   "execution_count": null,
   "metadata": {},
   "outputs": [],
   "source": [
    "import json\n",
    "import os\n",
    "from collections import defaultdict\n",
    "from IPython.display import HTML\n",
    "import numpy as np\n",
    "import matplotlib\n",
    "from matplotlib import animation\n",
    "import matplotlib.pyplot as plt\n",
    "\n",
    "from analysis import (\n",
    "    parse_results, get_token_groups, plot_token_groups, animate, average_length_by_weight,\n",
    "    tokens, counter_tokens, total_of, sum_up, mk_cumulative_interpolator\n",
    ")\n",
    "%matplotlib inline"
   ]
  },
  {
   "cell_type": "code",
   "execution_count": null,
   "metadata": {},
   "outputs": [],
   "source": [
    "def read(path):\n",
    "    tout, Cout, info = parse_results(path)\n",
    "    tokg, ctrg, spg = get_token_groups(Cout)\n",
    "    init = []\n",
    "    for sk in spg['polymeric']:\n",
    "        if Cout[sk][0] > 0:\n",
    "            init.append((sk, Cout[sk][0]))\n",
    "    (sk0, ic0), = init\n",
    "    return locals()"
   ]
  },
  {
   "cell_type": "code",
   "execution_count": null,
   "metadata": {},
   "outputs": [],
   "source": [
    "cases = __import__('cases_%s' % TOKEN)\n",
    "res = lambda **kw: ('%s-res/%s_{icrn}_{iint}.txt' % (TOKEN, TOKEN)).format(**kw)"
   ]
  },
  {
   "cell_type": "code",
   "execution_count": null,
   "metadata": {},
   "outputs": [],
   "source": [
    "def _varied(xi):\n",
    "    return 'varied-%s-%d.json' % (TOKEN, xi)\n",
    "\n",
    "interpols = []\n",
    "for freq_idx in range(len(cases.freqs)):\n",
    "    dur, varied = json.load(open(_varied(freq_idx)))\n",
    "    dr = varied.pop('doserate')\n",
    "    assert not varied\n",
    "    interpols.append(mk_cumulative_interpolator(dur, dr))"
   ]
  },
  {
   "cell_type": "code",
   "execution_count": null,
   "metadata": {},
   "outputs": [],
   "source": [
    "all_air, all_nit = {}, {}\n",
    "for iint, (imf, iatmo, ifreq) in enumerate(cases.int_indices):\n",
    "    if cases.atmos[iatmo]['N2O'] == 0 and cases.atmos[iatmo]['O2'] > 0.2e-3:\n",
    "        r = all_air\n",
    "    elif cases.atmos[iatmo]['N2O'] > 0.020 and cases.atmos[iatmo]['O2'] == 0:\n",
    "        r = all_nit\n",
    "    else:\n",
    "        raise ValueError(\"Could not determine atmosphere type\")\n",
    "    r[imf, ifreq] = read(res(icrn=0, iint=iint))"
   ]
  },
  {
   "cell_type": "code",
   "execution_count": null,
   "metadata": {},
   "outputs": [],
   "source": [
    "fig, ax = plt.subplots(1, 1, figsize=(16, 6))\n",
    "for i, k in enumerate(all_air[0, 0]['spg']['ord_rad']):\n",
    "    ax.loglog(all_air[0, 0]['tout'], all_air[0, 0]['Cout'][k], ls=['-',':','-.'][i % 3], label=k)\n",
    "ax.set_ylim([1e-15, 100])\n",
    "ax.legend()"
   ]
  },
  {
   "cell_type": "code",
   "execution_count": null,
   "metadata": {},
   "outputs": [],
   "source": [
    "#plot_token_groups(tout, Cout, tokg)"
   ]
  },
  {
   "cell_type": "code",
   "execution_count": null,
   "metadata": {},
   "outputs": [],
   "source": [
    "#anim1 = animate(tout, Cout, tokg)\n",
    "#HTML(anim1.to_html5_video())"
   ]
  },
  {
   "cell_type": "code",
   "execution_count": null,
   "metadata": {},
   "outputs": [],
   "source": []
  },
  {
   "cell_type": "code",
   "execution_count": null,
   "metadata": {},
   "outputs": [],
   "source": [
    "def plot_conc(series_air, series_nit, ip1d, sks='H2O2 O2 N2O HO2'.split()):\n",
    "    fig, all_axes = plt.subplots(len(series_air), 1 + len(sks), figsize=(16, 3*len(series_air)), sharey='col')\n",
    "    assert len(series_air) == len(series_nit)\n",
    "    for axes, air, nit in zip(all_axes, series_air, series_nit):\n",
    "        for lbl, cont in list(zip(['air', 'nitrous oxide'], [air, nit])):\n",
    "            axes[0].axhline(int(cont['sk0'][1:].split('a')[0]), ls='--', lw=0.5, alpha=0.5, c='k')\n",
    "            axes[0].plot(ip1d(cont['tout'])/1e3, average_length_by_weight(cont['Cout'], cont['tokg']), label=lbl)\n",
    "            for i in range(len(sks)):\n",
    "                axes[i+1].plot(ip1d(cont['tout'])/1e3, cont['Cout'][sks[i]], label=lbl, alpha=0.7)\n",
    "                axes[i+1].set_title(sks[i])\n",
    "                axes[i+1].set_yscale('log')\n",
    "        for ax in axes:\n",
    "            ax.set_xlabel('Dose / kGy')\n",
    "        axes[0].legend()\n",
    "        axes[1].legend()\n",
    "        _ = axes[0].set_title(r'Average length by weight')"
   ]
  },
  {
   "cell_type": "code",
   "execution_count": null,
   "metadata": {},
   "outputs": [],
   "source": [
    "%%javascript\n",
    "IPython.OutputArea.prototype._should_scroll = function(lines) {\n",
    "    return false;\n",
    "}"
   ]
  },
  {
   "cell_type": "code",
   "execution_count": null,
   "metadata": {},
   "outputs": [],
   "source": [
    "if TOKEN == 'W2':\n",
    "    for scal in range(5):\n",
    "        plot_conc([all_air[scal, 0], all_air[scal, 1]], [all_nit[scal, 0], all_nit[scal, 1]])\n",
    "elif TOKEN == 'W3':\n",
    "    plot_conc(*[[cont[0, mf] for mf in mfs] for cont in [all_air, all_nit]])\n",
    "elif TOKEN == 'XB1':\n",
    "    for freq in range(len(cases.freqs)):\n",
    "        cx, cy, ip1d = interpols[freq]\n",
    "        plot_conc(*[[cont[mf, freq] for mf in range(len(cases.mass_fracs))] for cont in [all_air, all_nit]], ip1d)\n",
    "        plt.suptitle(\"Freq = %.1f Hz\" % cases.freqs[freq])\n",
    "        plt.tight_layout()\n",
    "        plt.subplots_adjust(left=0.1, wspace=0.9, top=0.9)"
   ]
  },
  {
   "cell_type": "code",
   "execution_count": null,
   "metadata": {},
   "outputs": [],
   "source": [
    "def plot_tokens(series_air, series_nit, ip1d):\n",
    "    assert len(series_air) == len(series_nit)\n",
    "    fig, all_axes = plt.subplots(len(series_air), len(tokens[1:]), figsize=(16, 3*len(series_air)), sharey='col')\n",
    "    for axes, air, nit in zip(all_axes, series_air, series_nit):\n",
    "        for tk, ax in zip(tokens[1:], axes):\n",
    "            for lbl, cont in list(zip(['air', 'nitrous oxide'], [air, nit])):\n",
    "                ax.plot(ip1d(cont['tout']), total_of(cont['Cout'], cont['tokg'][tk])/cont['ic0'], label=lbl)\n",
    "            ax.legend()\n",
    "            ax.set_title(tk)\n",
    "            ax.set_xlabel('Dose / Gy')\n",
    "            ax.set_yscale('log')"
   ]
  },
  {
   "cell_type": "code",
   "execution_count": null,
   "metadata": {},
   "outputs": [],
   "source": [
    "if TOKEN == 'W2':\n",
    "    for scal in range(5):\n",
    "        plot_tokens([all_air[scal, 0], all_air[scal, 1]], [all_nit[scal, 0], all_nit[scal, 1]])\n",
    "elif TOKEN == 'W3':\n",
    "    plot_tokens(*[[cont[0, mf] for mf in mfs] for cont in [all_air, all_nit]])\n",
    "elif TOKEN == 'XB1':\n",
    "    for freq in range(len(cases.freqs)):\n",
    "        cx, cy, ip1d = interpols[freq]\n",
    "        plot_tokens(*[[cont[mf, freq] for mf in range(len(cases.mass_fracs))] for cont in [all_air, all_nit]], ip1d)\n",
    "        plt.suptitle(\"Freq = %.1f Hz\" % cases.freqs[freq])\n",
    "        plt.tight_layout()\n",
    "        plt.subplots_adjust(left=0.1, wspace=0.9, top=0.9)"
   ]
  },
  {
   "cell_type": "code",
   "execution_count": null,
   "metadata": {},
   "outputs": [],
   "source": [
    "# This cell generates figures for Mats' conference presentation\n",
    "cx, cy, ip1d = interpols[0]\n",
    "series_air = [all_air[mf, 0] for mf in range(len(cases.mass_fracs))]\n",
    "series_nit = [all_nit[mf, 0] for mf in range(len(cases.mass_fracs))]\n",
    "assert len(series_air) == len(series_nit)\n",
    "for mfi, (air, nit) in enumerate(zip(series_air, series_nit)):\n",
    "    fig, ax = plt.subplots(1, 1)\n",
    "    tk = 'a'\n",
    "    for lbl, cont in list(zip(['air', 'nitrous oxide'], [air, nit])):\n",
    "        ax.plot(ip1d(cont['tout'])/1e3, total_of(cont['Cout'], cont['tokg'][tk])/cont['ic0'], label=lbl)\n",
    "    ax.legend()\n",
    "    ppm = cases.mass_fracs[mfi]*1e6\n",
    "    ax.set_title('%d ppm polymer' % ppm)\n",
    "    ax.set_xlabel('Dose / kGy')\n",
    "    ax.set_yscale('log')\n",
    "    ax.set_ylim([1e-2, 1e3])\n",
    "    ax.set_ylabel('Number of alkyl radicals per polymer chain')\n",
    "    fig.tight_layout()\n",
    "    #fig.savefig('alkyls_per_chain_%d.png' % ppm, dpi=300)"
   ]
  },
  {
   "cell_type": "code",
   "execution_count": null,
   "metadata": {},
   "outputs": [],
   "source": [
    "def plot_counters(series_air, series_nit, ip1d):\n",
    "    assert len(series_air) == len(series_nit)\n",
    "    fig, all_axes = plt.subplots(len(series_air), len(counter_tokens), figsize=(16, 3*len(series_air)), sharey='col')\n",
    "    for axes, air, nit in zip(all_axes, series_air, series_nit):\n",
    "        for ct, ax in zip(counter_tokens, axes):\n",
    "            for lbl, cont in list(zip(['air', 'nitrous oxide'], [air, nit])):\n",
    "                ax.plot(ip1d(cont['tout']), sum_up(cont['Cout'], cont['ctrg'][ct])/cont['ic0'], label=lbl)\n",
    "            ax.set_xlabel('Dose / Gy')\n",
    "            ax.legend()\n",
    "            ax.set_title(ct)"
   ]
  },
  {
   "cell_type": "code",
   "execution_count": null,
   "metadata": {},
   "outputs": [],
   "source": [
    "if TOKEN == 'W2':\n",
    "    for scal in range(5):\n",
    "        plot_counters([all_air[scal, 0], all_air[scal, 1]], [all_nit[scal, 0], all_nit[scal, 1]])\n",
    "elif TOKEN == 'W3':\n",
    "    plot_counters(*[[cont[0, mf] for mf in mfs] for cont in [all_air, all_nit]])\n",
    "elif TOKEN == 'XB1':\n",
    "    for freq in range(len(cases.freqs)):\n",
    "        cx, cy, ip1d = interpols[freq]\n",
    "        plot_counters(*[[cont[mf, freq] for mf in range(len(cases.mass_fracs))] for cont in [all_air, all_nit]], ip1d)\n",
    "        plt.suptitle(\"Freq = %.1f Hz\" % cases.freqs[freq])\n",
    "        plt.tight_layout()\n",
    "        plt.subplots_adjust(left=0.1, wspace=0.9, top=0.9)"
   ]
  },
  {
   "cell_type": "code",
   "execution_count": null,
   "metadata": {},
   "outputs": [],
   "source": [
    "# This cell generates figures for the manuscript\n",
    "exec(open('ms.inc.py').read())"
   ]
  },
  {
   "cell_type": "code",
   "execution_count": null,
   "metadata": {},
   "outputs": [],
   "source": [
    "# Figure 4b\n",
    "fig, ax = plt.subplots(1, 1, figsize=(8, 5))\n",
    "#for ia, ax in enumerate(axes):\n",
    "for lbl, series, m in list(zip(['nitrous oxide', 'air'], [series_nit, series_air], 'ds')):\n",
    "    tk = 'a'\n",
    "    num_a = []\n",
    "    for cont in series:\n",
    "        num_a.append(np.max(total_of(cont['Cout'], cont['tokg'][tk]))/cont['ic0'])\n",
    "    ppm = [mf*1e6 for mf in cases.mass_fracs]\n",
    "    ax.plot(ppm, num_a, label=lbl, marker=m, ls='None')\n",
    "ax.set_xlabel('Mass fraction / ppm')\n",
    "ax.set_ylabel('Maximum number of alkyl radicals per chain')\n",
    "ax.legend()\n",
    "fig.savefig('fig4b.png', dpi=300)"
   ]
  },
  {
   "cell_type": "code",
   "execution_count": null,
   "metadata": {},
   "outputs": [],
   "source": []
  }
 ],
 "metadata": {
  "kernelspec": {
   "display_name": "Python 3",
   "language": "python",
   "name": "python3"
  },
  "language_info": {
   "codemirror_mode": {
    "name": "ipython",
    "version": 3
   },
   "file_extension": ".py",
   "mimetype": "text/x-python",
   "name": "python",
   "nbconvert_exporter": "python",
   "pygments_lexer": "ipython3",
   "version": "3.6.6"
  }
 },
 "nbformat": 4,
 "nbformat_minor": 2
}
