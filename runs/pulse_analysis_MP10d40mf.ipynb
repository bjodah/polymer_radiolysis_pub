{
 "cells": [
  {
   "cell_type": "code",
   "execution_count": null,
   "metadata": {},
   "outputs": [],
   "source": [
    "from _analyze_pulse_sequence import make_context\n",
    "%matplotlib inline"
   ]
  },
  {
   "cell_type": "code",
   "execution_count": null,
   "metadata": {},
   "outputs": [],
   "source": [
    "ctx = make_context('MP10d40mf')\n",
    "ctx.plot_Mats(xlim_kGy=[0, 4])"
   ]
  },
  {
   "cell_type": "code",
   "execution_count": null,
   "metadata": {},
   "outputs": [],
   "source": [
    "ctx.plot_example()"
   ]
  },
  {
   "cell_type": "code",
   "execution_count": null,
   "metadata": {},
   "outputs": [],
   "source": [
    "ctx.plot_single_token(token='a', xlim=[0, 1e-2])"
   ]
  },
  {
   "cell_type": "code",
   "execution_count": null,
   "metadata": {},
   "outputs": [],
   "source": [
    "ctx.plot_single_token(token='a', xlim=[0, 1e-2], per_number=True, subplots_kw={'sharex': 'col'})"
   ]
  },
  {
   "cell_type": "code",
   "execution_count": null,
   "metadata": {},
   "outputs": [],
   "source": [
    "ctx.plot_single_token(token='a', frac_remaining=0.1, subplots_kw={'sharex': 'col'})"
   ]
  },
  {
   "cell_type": "code",
   "execution_count": null,
   "metadata": {},
   "outputs": [],
   "source": [
    "ctx.plot_single_token(token='n', xlim=[0, None], per_number=True, subplots_kw={'sharex': 'col'})"
   ]
  },
  {
   "cell_type": "code",
   "execution_count": null,
   "metadata": {},
   "outputs": [],
   "source": [
    "ctx.plot_single_token(token='l', xlim=[0, None], per_number=True, subplots_kw={'sharex': 'col'})"
   ]
  },
  {
   "cell_type": "code",
   "execution_count": null,
   "metadata": {},
   "outputs": [],
   "source": [
    "ctx.plot_tokens()"
   ]
  },
  {
   "cell_type": "code",
   "execution_count": null,
   "metadata": {},
   "outputs": [],
   "source": [
    "ctx.plot_conc()"
   ]
  },
  {
   "cell_type": "code",
   "execution_count": null,
   "metadata": {},
   "outputs": [],
   "source": [
    "from analysis import average_length_by_weight"
   ]
  },
  {
   "cell_type": "code",
   "execution_count": null,
   "metadata": {},
   "outputs": [],
   "source": [
    "for iatmo, atmo in enumerate(ctx.cases.atmos):\n",
    "    iscal=0\n",
    "    for imf in range(ctx.nmf):\n",
    "        print(\"mass_frac=%.3g\" % ctx.cases.mass_fracs[imf], atmo)\n",
    "        print(\"Average length by weight: %.3g\" % \n",
    "              average_length_by_weight(ctx.rs[iscal,imf,iatmo]['Cout'], ctx.rs[0,0,iatmo]['tokg'])[-1])\n",
    "        for sk in 'H2O2 O2'.split():\n",
    "            print(\"%s: %.3g\" % (sk, ctx.rs[iscal,imf,iatmo]['Cout'][sk][-1]))\n",
    "        print('\\n')"
   ]
  },
  {
   "cell_type": "code",
   "execution_count": null,
   "metadata": {},
   "outputs": [],
   "source": [
    "ctx.export_txt()"
   ]
  },
  {
   "cell_type": "code",
   "execution_count": null,
   "metadata": {},
   "outputs": [],
   "source": [
    "ctx.plot_Mats()"
   ]
  },
  {
   "cell_type": "code",
   "execution_count": null,
   "metadata": {},
   "outputs": [],
   "source": [
    "ctx.plot_Mats(zoom=True)"
   ]
  },
  {
   "cell_type": "code",
   "execution_count": null,
   "metadata": {},
   "outputs": [],
   "source": []
  }
 ],
 "metadata": {
  "kernelspec": {
   "display_name": "Python 3",
   "language": "python",
   "name": "python3"
  }
 },
 "nbformat": 4,
 "nbformat_minor": 2
}
