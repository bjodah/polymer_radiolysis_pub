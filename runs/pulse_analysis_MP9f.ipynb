{
 "cells": [
  {
   "cell_type": "code",
   "execution_count": null,
   "metadata": {},
   "outputs": [],
   "source": [
    "from _analyze_pulse_sequence import make_context\n",
    "%matplotlib inline"
   ]
  },
  {
   "cell_type": "code",
   "execution_count": null,
   "metadata": {},
   "outputs": [],
   "source": [
    "ctx = make_context('MP9f')"
   ]
  },
  {
   "cell_type": "code",
   "execution_count": null,
   "metadata": {},
   "outputs": [],
   "source": [
    "ctx.plot_example()"
   ]
  },
  {
   "cell_type": "code",
   "execution_count": null,
   "metadata": {},
   "outputs": [],
   "source": [
    "ctx.plot_single_token(token='a', xlim=[0, 1e-2])"
   ]
  },
  {
   "cell_type": "code",
   "execution_count": null,
   "metadata": {},
   "outputs": [],
   "source": [
    "ctx.plot_single_token(token='a', xlim=[0, 1e-2], per_number=True, subplots_kw={'sharex': 'col'})"
   ]
  },
  {
   "cell_type": "code",
   "execution_count": null,
   "metadata": {},
   "outputs": [],
   "source": [
    "ctx.plot_single_token(token='a', frac_remaining=0.1, subplots_kw={'sharex': 'col'})"
   ]
  },
  {
   "cell_type": "code",
   "execution_count": null,
   "metadata": {},
   "outputs": [],
   "source": [
    "ctx.plot_single_token(token='n', xlim=[0, None], per_number=True, subplots_kw={'sharex': 'col'})"
   ]
  },
  {
   "cell_type": "code",
   "execution_count": null,
   "metadata": {},
   "outputs": [],
   "source": [
    "ctx.plot_single_token(token='l', xlim=[0, None], per_number=True, subplots_kw={'sharex': 'col'})"
   ]
  },
  {
   "cell_type": "code",
   "execution_count": null,
   "metadata": {},
   "outputs": [],
   "source": [
    "ctx.plot_tokens()"
   ]
  },
  {
   "cell_type": "code",
   "execution_count": null,
   "metadata": {},
   "outputs": [],
   "source": [
    "ctx.plot_conc()"
   ]
  },
  {
   "cell_type": "code",
   "execution_count": null,
   "metadata": {},
   "outputs": [],
   "source": [
    "ctx.export_txt()"
   ]
  },
  {
   "cell_type": "code",
   "execution_count": null,
   "metadata": {},
   "outputs": [],
   "source": [
    "import matplotlib.pyplot as plt\n",
    "import numpy as np\n",
    "for imf in range(ctx.nmf):\n",
    "    ppm = ctx.cases.mass_fracs[imf] * 1e6\n",
    "    air, nit = ctx.rs[0, imf, 0], ctx.rs[0, imf, 1]\n",
    "    # final size distribution:\n",
    "    fig4, ax4 = plt.subplots(1, 1)\n",
    "    for lbl, cont in list(zip(['air', 'nitrous oxide'], [air, nit])):\n",
    "        nrm = 0.0\n",
    "        arr = []\n",
    "        for w, g in cont['tokg']['n'].items():\n",
    "            val = 0.0\n",
    "            for k in g:\n",
    "                val += w*w*cont['Cout'][k][-1]\n",
    "                nrm += w*cont['Cout'][k][-1]\n",
    "            arr.append([w, val])\n",
    "        arr = np.array(arr)\n",
    "        ax4.plot(arr[:, 0], arr[:, 1]/nrm, 100, label=lbl)\n",
    "    ax4.set_title('%d ppm' % ppm)\n",
    "    ax4.legend()\n",
    "arr"
   ]
  },
  {
   "cell_type": "code",
   "execution_count": null,
   "metadata": {},
   "outputs": [],
   "source": []
  }
 ],
 "metadata": {
  "kernelspec": {
   "display_name": "Python 3",
   "language": "python",
   "name": "python3"
  },
  "language_info": {
   "codemirror_mode": {
    "name": "ipython",
    "version": 3
   },
   "file_extension": ".py",
   "mimetype": "text/x-python",
   "name": "python",
   "nbconvert_exporter": "python",
   "pygments_lexer": "ipython3",
   "version": "3.6.6"
  }
 },
 "nbformat": 4,
 "nbformat_minor": 2
}
